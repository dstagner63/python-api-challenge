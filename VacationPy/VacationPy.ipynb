{
 "cells": [
  {
   "cell_type": "markdown",
   "metadata": {},
   "source": [
    "# VacationPy\n",
    "----\n",
    "\n",
    "#### Note\n",
    "* Keep an eye on your API usage. Use https://developers.google.com/maps/reporting/gmp-reporting as reference for how to monitor your usage and billing.\n",
    "\n",
    "* Instructions have been included for each segment. You do not have to follow them exactly, but they are included to help you think through the steps."
   ]
  },
  {
   "cell_type": "code",
   "execution_count": 1,
   "metadata": {},
   "outputs": [],
   "source": [
    "# Dependencies and Setup\n",
    "import matplotlib.pyplot as plt\n",
    "import pandas as pd\n",
    "import numpy as np\n",
    "import requests\n",
    "import gmaps\n",
    "import os\n",
    "\n",
    "# Import API key\n",
    "from api_keys import g_key"
   ]
  },
  {
   "cell_type": "markdown",
   "metadata": {
    "pycharm": {
     "name": "#%% md\n"
    }
   },
   "source": [
    "### Store Part I results into DataFrame\n",
    "* Load the csv exported in Part I to a DataFrame"
   ]
  },
  {
   "cell_type": "code",
   "execution_count": 2,
   "metadata": {},
   "outputs": [
    {
     "output_type": "execute_result",
     "data": {
      "text/plain": [
       "            City Country  Latitude  Longitude  Max Temperature (F)  \\\n",
       "0       chenghai      CN     23.46     116.77                18.00   \n",
       "1          bluff      NZ    -46.60     168.33                14.44   \n",
       "2       rantepao      ID     -2.97     119.90                19.29   \n",
       "3           roma      US     43.21     -75.46                 8.33   \n",
       "4        rikitea      PF    -23.12    -134.97                24.12   \n",
       "..           ...     ...       ...        ...                  ...   \n",
       "620     dvinskoy      RU     62.15      45.12                -3.43   \n",
       "621     sabzevar      IR     36.21      57.68                11.85   \n",
       "622  zihuatanejo      MX     17.63    -101.55                29.16   \n",
       "623  thohoyandou      ZA    -22.95      30.48                25.68   \n",
       "624  fort nelson      CA     58.81    -122.70                -1.14   \n",
       "\n",
       "     Humidity (%)  Cloudiness (%)  Wind Speed (mph)          Date  \n",
       "0            63.0             0.0              2.85  1.606849e+09  \n",
       "1            52.0           100.0              1.79  1.606849e+09  \n",
       "2            88.0            86.0              1.13  1.606849e+09  \n",
       "3            87.0            99.0              5.54  1.606849e+09  \n",
       "4            71.0            65.0              3.22  1.606849e+09  \n",
       "..            ...             ...               ...           ...  \n",
       "620          96.0            96.0              3.24  1.606849e+09  \n",
       "621          51.0            59.0              0.70  1.606849e+09  \n",
       "622          62.0            49.0              2.71  1.606849e+09  \n",
       "623          52.0            28.0              2.23  1.606849e+09  \n",
       "624          84.0           100.0              2.59  1.606849e+09  \n",
       "\n",
       "[625 rows x 9 columns]"
      ],
      "text/html": "<div>\n<style scoped>\n    .dataframe tbody tr th:only-of-type {\n        vertical-align: middle;\n    }\n\n    .dataframe tbody tr th {\n        vertical-align: top;\n    }\n\n    .dataframe thead th {\n        text-align: right;\n    }\n</style>\n<table border=\"1\" class=\"dataframe\">\n  <thead>\n    <tr style=\"text-align: right;\">\n      <th></th>\n      <th>City</th>\n      <th>Country</th>\n      <th>Latitude</th>\n      <th>Longitude</th>\n      <th>Max Temperature (F)</th>\n      <th>Humidity (%)</th>\n      <th>Cloudiness (%)</th>\n      <th>Wind Speed (mph)</th>\n      <th>Date</th>\n    </tr>\n  </thead>\n  <tbody>\n    <tr>\n      <th>0</th>\n      <td>chenghai</td>\n      <td>CN</td>\n      <td>23.46</td>\n      <td>116.77</td>\n      <td>18.00</td>\n      <td>63.0</td>\n      <td>0.0</td>\n      <td>2.85</td>\n      <td>1.606849e+09</td>\n    </tr>\n    <tr>\n      <th>1</th>\n      <td>bluff</td>\n      <td>NZ</td>\n      <td>-46.60</td>\n      <td>168.33</td>\n      <td>14.44</td>\n      <td>52.0</td>\n      <td>100.0</td>\n      <td>1.79</td>\n      <td>1.606849e+09</td>\n    </tr>\n    <tr>\n      <th>2</th>\n      <td>rantepao</td>\n      <td>ID</td>\n      <td>-2.97</td>\n      <td>119.90</td>\n      <td>19.29</td>\n      <td>88.0</td>\n      <td>86.0</td>\n      <td>1.13</td>\n      <td>1.606849e+09</td>\n    </tr>\n    <tr>\n      <th>3</th>\n      <td>roma</td>\n      <td>US</td>\n      <td>43.21</td>\n      <td>-75.46</td>\n      <td>8.33</td>\n      <td>87.0</td>\n      <td>99.0</td>\n      <td>5.54</td>\n      <td>1.606849e+09</td>\n    </tr>\n    <tr>\n      <th>4</th>\n      <td>rikitea</td>\n      <td>PF</td>\n      <td>-23.12</td>\n      <td>-134.97</td>\n      <td>24.12</td>\n      <td>71.0</td>\n      <td>65.0</td>\n      <td>3.22</td>\n      <td>1.606849e+09</td>\n    </tr>\n    <tr>\n      <th>...</th>\n      <td>...</td>\n      <td>...</td>\n      <td>...</td>\n      <td>...</td>\n      <td>...</td>\n      <td>...</td>\n      <td>...</td>\n      <td>...</td>\n      <td>...</td>\n    </tr>\n    <tr>\n      <th>620</th>\n      <td>dvinskoy</td>\n      <td>RU</td>\n      <td>62.15</td>\n      <td>45.12</td>\n      <td>-3.43</td>\n      <td>96.0</td>\n      <td>96.0</td>\n      <td>3.24</td>\n      <td>1.606849e+09</td>\n    </tr>\n    <tr>\n      <th>621</th>\n      <td>sabzevar</td>\n      <td>IR</td>\n      <td>36.21</td>\n      <td>57.68</td>\n      <td>11.85</td>\n      <td>51.0</td>\n      <td>59.0</td>\n      <td>0.70</td>\n      <td>1.606849e+09</td>\n    </tr>\n    <tr>\n      <th>622</th>\n      <td>zihuatanejo</td>\n      <td>MX</td>\n      <td>17.63</td>\n      <td>-101.55</td>\n      <td>29.16</td>\n      <td>62.0</td>\n      <td>49.0</td>\n      <td>2.71</td>\n      <td>1.606849e+09</td>\n    </tr>\n    <tr>\n      <th>623</th>\n      <td>thohoyandou</td>\n      <td>ZA</td>\n      <td>-22.95</td>\n      <td>30.48</td>\n      <td>25.68</td>\n      <td>52.0</td>\n      <td>28.0</td>\n      <td>2.23</td>\n      <td>1.606849e+09</td>\n    </tr>\n    <tr>\n      <th>624</th>\n      <td>fort nelson</td>\n      <td>CA</td>\n      <td>58.81</td>\n      <td>-122.70</td>\n      <td>-1.14</td>\n      <td>84.0</td>\n      <td>100.0</td>\n      <td>2.59</td>\n      <td>1.606849e+09</td>\n    </tr>\n  </tbody>\n</table>\n<p>625 rows × 9 columns</p>\n</div>"
     },
     "metadata": {},
     "execution_count": 2
    }
   ],
   "source": [
    "# This is the csv file from part I of this assignment. \n",
    "file_one = \"../WeatherPy/weatherpy_9_53.csv\"\n",
    "weather_df = pd.read_csv(file_one, encoding=\"ISO-8859-1\")\n",
    "weather_df"
   ]
  },
  {
   "cell_type": "code",
   "execution_count": 3,
   "metadata": {
    "pycharm": {
     "name": "#%%\n"
    },
    "scrolled": true
   },
   "outputs": [
    {
     "output_type": "execute_result",
     "data": {
      "text/plain": [
       "City                    object\n",
       "Country                 object\n",
       "Latitude               float64\n",
       "Longitude              float64\n",
       "Max Temperature (F)    float64\n",
       "Humidity (%)           float64\n",
       "Cloudiness (%)         float64\n",
       "Wind Speed (mph)       float64\n",
       "Date                   float64\n",
       "dtype: object"
      ]
     },
     "metadata": {},
     "execution_count": 3
    }
   ],
   "source": [
    "#Checking the data types to make sure I don't need to convert anything. \n",
    "weather_df.dtypes"
   ]
  },
  {
   "cell_type": "code",
   "execution_count": 4,
   "metadata": {},
   "outputs": [
    {
     "output_type": "execute_result",
     "data": {
      "text/plain": [
       "            City Country  Latitude  Longitude  Max Temperature (F)  \\\n",
       "0       chenghai      CN     23.46     116.77               64.400   \n",
       "1          bluff      NZ    -46.60     168.33               57.992   \n",
       "2       rantepao      ID     -2.97     119.90               66.722   \n",
       "3           roma      US     43.21     -75.46               46.994   \n",
       "4        rikitea      PF    -23.12    -134.97               75.416   \n",
       "..           ...     ...       ...        ...                  ...   \n",
       "620     dvinskoy      RU     62.15      45.12               25.826   \n",
       "621     sabzevar      IR     36.21      57.68               53.330   \n",
       "622  zihuatanejo      MX     17.63    -101.55               84.488   \n",
       "623  thohoyandou      ZA    -22.95      30.48               78.224   \n",
       "624  fort nelson      CA     58.81    -122.70               29.948   \n",
       "\n",
       "     Humidity (%)  Cloudiness (%)  Wind Speed (mph)          Date  \n",
       "0            63.0             0.0              2.85  1.606849e+09  \n",
       "1            52.0           100.0              1.79  1.606849e+09  \n",
       "2            88.0            86.0              1.13  1.606849e+09  \n",
       "3            87.0            99.0              5.54  1.606849e+09  \n",
       "4            71.0            65.0              3.22  1.606849e+09  \n",
       "..            ...             ...               ...           ...  \n",
       "620          96.0            96.0              3.24  1.606849e+09  \n",
       "621          51.0            59.0              0.70  1.606849e+09  \n",
       "622          62.0            49.0              2.71  1.606849e+09  \n",
       "623          52.0            28.0              2.23  1.606849e+09  \n",
       "624          84.0           100.0              2.59  1.606849e+09  \n",
       "\n",
       "[625 rows x 9 columns]"
      ],
      "text/html": "<div>\n<style scoped>\n    .dataframe tbody tr th:only-of-type {\n        vertical-align: middle;\n    }\n\n    .dataframe tbody tr th {\n        vertical-align: top;\n    }\n\n    .dataframe thead th {\n        text-align: right;\n    }\n</style>\n<table border=\"1\" class=\"dataframe\">\n  <thead>\n    <tr style=\"text-align: right;\">\n      <th></th>\n      <th>City</th>\n      <th>Country</th>\n      <th>Latitude</th>\n      <th>Longitude</th>\n      <th>Max Temperature (F)</th>\n      <th>Humidity (%)</th>\n      <th>Cloudiness (%)</th>\n      <th>Wind Speed (mph)</th>\n      <th>Date</th>\n    </tr>\n  </thead>\n  <tbody>\n    <tr>\n      <th>0</th>\n      <td>chenghai</td>\n      <td>CN</td>\n      <td>23.46</td>\n      <td>116.77</td>\n      <td>64.400</td>\n      <td>63.0</td>\n      <td>0.0</td>\n      <td>2.85</td>\n      <td>1.606849e+09</td>\n    </tr>\n    <tr>\n      <th>1</th>\n      <td>bluff</td>\n      <td>NZ</td>\n      <td>-46.60</td>\n      <td>168.33</td>\n      <td>57.992</td>\n      <td>52.0</td>\n      <td>100.0</td>\n      <td>1.79</td>\n      <td>1.606849e+09</td>\n    </tr>\n    <tr>\n      <th>2</th>\n      <td>rantepao</td>\n      <td>ID</td>\n      <td>-2.97</td>\n      <td>119.90</td>\n      <td>66.722</td>\n      <td>88.0</td>\n      <td>86.0</td>\n      <td>1.13</td>\n      <td>1.606849e+09</td>\n    </tr>\n    <tr>\n      <th>3</th>\n      <td>roma</td>\n      <td>US</td>\n      <td>43.21</td>\n      <td>-75.46</td>\n      <td>46.994</td>\n      <td>87.0</td>\n      <td>99.0</td>\n      <td>5.54</td>\n      <td>1.606849e+09</td>\n    </tr>\n    <tr>\n      <th>4</th>\n      <td>rikitea</td>\n      <td>PF</td>\n      <td>-23.12</td>\n      <td>-134.97</td>\n      <td>75.416</td>\n      <td>71.0</td>\n      <td>65.0</td>\n      <td>3.22</td>\n      <td>1.606849e+09</td>\n    </tr>\n    <tr>\n      <th>...</th>\n      <td>...</td>\n      <td>...</td>\n      <td>...</td>\n      <td>...</td>\n      <td>...</td>\n      <td>...</td>\n      <td>...</td>\n      <td>...</td>\n      <td>...</td>\n    </tr>\n    <tr>\n      <th>620</th>\n      <td>dvinskoy</td>\n      <td>RU</td>\n      <td>62.15</td>\n      <td>45.12</td>\n      <td>25.826</td>\n      <td>96.0</td>\n      <td>96.0</td>\n      <td>3.24</td>\n      <td>1.606849e+09</td>\n    </tr>\n    <tr>\n      <th>621</th>\n      <td>sabzevar</td>\n      <td>IR</td>\n      <td>36.21</td>\n      <td>57.68</td>\n      <td>53.330</td>\n      <td>51.0</td>\n      <td>59.0</td>\n      <td>0.70</td>\n      <td>1.606849e+09</td>\n    </tr>\n    <tr>\n      <th>622</th>\n      <td>zihuatanejo</td>\n      <td>MX</td>\n      <td>17.63</td>\n      <td>-101.55</td>\n      <td>84.488</td>\n      <td>62.0</td>\n      <td>49.0</td>\n      <td>2.71</td>\n      <td>1.606849e+09</td>\n    </tr>\n    <tr>\n      <th>623</th>\n      <td>thohoyandou</td>\n      <td>ZA</td>\n      <td>-22.95</td>\n      <td>30.48</td>\n      <td>78.224</td>\n      <td>52.0</td>\n      <td>28.0</td>\n      <td>2.23</td>\n      <td>1.606849e+09</td>\n    </tr>\n    <tr>\n      <th>624</th>\n      <td>fort nelson</td>\n      <td>CA</td>\n      <td>58.81</td>\n      <td>-122.70</td>\n      <td>29.948</td>\n      <td>84.0</td>\n      <td>100.0</td>\n      <td>2.59</td>\n      <td>1.606849e+09</td>\n    </tr>\n  </tbody>\n</table>\n<p>625 rows × 9 columns</p>\n</div>"
     },
     "metadata": {},
     "execution_count": 4
    }
   ],
   "source": [
    "#Convert temperature to Farenheit.\n",
    "weather_df['Max Temperature (F)'] = weather_df['Max Temperature (F)']*1.8+32\n",
    "weather_df"
   ]
  },
  {
   "cell_type": "markdown",
   "metadata": {
    "pycharm": {
     "name": "#%% md\n"
    }
   },
   "source": [
    "### Humidity Heatmap\n",
    "* Configure gmaps.\n",
    "* Use the Lat and Lng as locations and Humidity as the weight.\n",
    "* Add Heatmap layer to map."
   ]
  },
  {
   "cell_type": "code",
   "execution_count": 5,
   "metadata": {},
   "outputs": [],
   "source": [
    "# Configure gmaps with API key\n",
    "gmaps.configure(api_key=g_key)\n",
    "\n",
    "# Store 'Lat' and 'Lng' into  locations \n",
    "weather_df = weather_df.dropna()\n",
    "locations = weather_df[[\"Latitude\", \"Longitude\"]]\n",
    "humidity_map = weather_df[\"Humidity (%)\"]"
   ]
  },
  {
   "cell_type": "code",
   "execution_count": 6,
   "metadata": {
    "pycharm": {
     "name": "#%%\n"
    },
    "scrolled": false
   },
   "outputs": [
    {
     "output_type": "display_data",
     "data": {
      "text/plain": "Figure(layout=FigureLayout(height='420px'))",
      "application/vnd.jupyter.widget-view+json": {
       "version_major": 2,
       "version_minor": 0,
       "model_id": "6d8275f4a2b946cd9473db1d0bc304f0"
      }
     },
     "metadata": {}
    }
   ],
   "source": [
    "fig = gmaps.figure(center=(0,0), zoom_level=2)\n",
    "\n",
    "heat_layer = gmaps.heatmap_layer(locations, weights=humidity_map, \n",
    "                                 dissipating=False, max_intensity=100,\n",
    "                                 point_radius = 2)\n",
    "\n",
    "fig.add_layer(heat_layer)\n",
    "fig\n",
    "# Need to fix this map so the view doesn't repeat itself like this."
   ]
  },
  {
   "cell_type": "markdown",
   "metadata": {
    "pycharm": {
     "name": "#%% md\n"
    }
   },
   "source": [
    "### Create new DataFrame fitting weather criteria\n",
    "* Narrow down the cities to fit weather conditions.\n",
    "* Drop any rows will null values."
   ]
  },
  {
   "cell_type": "code",
   "execution_count": 7,
   "metadata": {
    "pycharm": {
     "name": "#%%\n"
    }
   },
   "outputs": [],
   "source": [
    "tmp = weather_df['Max Temperature (F)']\n",
    "ws = weather_df['Wind Speed (mph)']\n",
    "cld = weather_df['Cloudiness (%)']\n",
    "\n",
    "vacation_df = weather_df.loc[(tmp>70)&(tmp<80) & \n",
    "                                        (ws<10) & (cld==0)]"
   ]
  },
  {
   "cell_type": "markdown",
   "metadata": {},
   "source": [
    "### Hotel Map\n",
    "* Store into variable named `hotel_df`.\n",
    "* Add a \"Hotel Name\" column to the DataFrame.\n",
    "* Set parameters to search for hotels with 5000 meters.\n",
    "* Hit the Google Places API for each city's coordinates.\n",
    "* Store the first Hotel result into the DataFrame.\n",
    "* Plot markers on top of the heatmap."
   ]
  },
  {
   "cell_type": "code",
   "execution_count": 8,
   "metadata": {},
   "outputs": [
    {
     "output_type": "execute_result",
     "data": {
      "text/plain": [
       "                City Country  Latitude  Longitude  Max Temperature (F)  \\\n",
       "18              hilo      US     19.73    -155.09               75.992   \n",
       "46            atuona      PF     -9.80    -139.03               78.026   \n",
       "48            rawson      AR    -43.30     -65.10               78.512   \n",
       "67              raga      SS      8.46      25.68               75.650   \n",
       "87            mulege      MX     26.88    -111.98               76.496   \n",
       "116       phan thiet      VN     10.93     108.10               74.120   \n",
       "128           avarua      CK    -21.21    -159.78               77.954   \n",
       "153         umm lajj      SA     25.02      37.27               73.418   \n",
       "162   guerrero negro      MX     27.98    -114.06               75.794   \n",
       "185            kapaa      US     22.08    -159.32               74.534   \n",
       "210            rocha      UY    -34.48     -54.33               76.658   \n",
       "215        abu dhabi      AE     24.47      54.37               75.560   \n",
       "240           lompoc      US     34.64    -120.46               71.996   \n",
       "261          kahului      US     20.89    -156.47               71.996   \n",
       "266            tapes      BR    -30.67     -51.40               73.418   \n",
       "341          mangrol      IN     21.12      70.12               77.576   \n",
       "394   cabo san lucas      MX     22.89    -109.91               77.000   \n",
       "434           dwarka      IN     22.24      68.97               79.304   \n",
       "440         teahupoo      PF    -17.83    -149.27               75.452   \n",
       "452           maridi      SS      4.92      29.47               75.362   \n",
       "459        inhambane      MZ    -23.86      35.38               78.224   \n",
       "470   cap malheureux      MU    -19.98      57.61               78.008   \n",
       "476      san quintin      MX     30.48    -115.95               70.718   \n",
       "477          biltine      TD     14.53      20.92               73.202   \n",
       "486           sinnar      SD     13.57      33.57               75.002   \n",
       "548         shirgaon      IN     19.70      72.70               78.944   \n",
       "562        ankazoabo      MG    -22.28      44.52               76.100   \n",
       "605  bandar-e lengeh      IR     26.56      54.88               72.158   \n",
       "\n",
       "     Humidity (%)  Cloudiness (%)  Wind Speed (mph)          Date  \\\n",
       "18           72.0             0.0              0.97  1.606849e+09   \n",
       "46           79.0             0.0              6.44  1.606849e+09   \n",
       "48           17.0             0.0              6.19  1.606849e+09   \n",
       "67           21.0             0.0              1.94  1.606849e+09   \n",
       "87           19.0             0.0              4.28  1.606849e+09   \n",
       "116          83.0             0.0              5.14  1.606849e+09   \n",
       "128          82.0             0.0              5.71  1.606849e+09   \n",
       "153          49.0             0.0              2.66  1.606849e+09   \n",
       "162          19.0             0.0              1.65  1.606849e+09   \n",
       "185          71.0             0.0              0.80  1.606848e+09   \n",
       "210          44.0             0.0              4.07  1.606849e+09   \n",
       "215          71.0             0.0              3.79  1.606849e+09   \n",
       "240          48.0             0.0              3.61  1.606848e+09   \n",
       "261          77.0             0.0              3.13  1.606849e+09   \n",
       "266          65.0             0.0              6.21  1.606849e+09   \n",
       "341          52.0             0.0              4.62  1.606848e+09   \n",
       "394          61.0             0.0              2.24  1.606848e+09   \n",
       "434          56.0             0.0              4.71  1.606849e+09   \n",
       "440          87.0             0.0              7.48  1.606849e+09   \n",
       "452          47.0             0.0              1.29  1.606849e+09   \n",
       "459          85.0             0.0              5.32  1.606849e+09   \n",
       "470          81.0             0.0              1.79  1.606849e+09   \n",
       "476          28.0             0.0              2.13  1.606849e+09   \n",
       "477          19.0             0.0              2.46  1.606849e+09   \n",
       "486          21.0             0.0              5.39  1.606849e+09   \n",
       "548          71.0             0.0              3.60  1.606849e+09   \n",
       "562          59.0             0.0              1.94  1.606849e+09   \n",
       "605          64.0             0.0              1.41  1.606849e+09   \n",
       "\n",
       "                                 Hotel Name  \n",
       "18                      Hilo Hawaiian Hotel  \n",
       "46                              Villa Enata  \n",
       "48                         Hotel Punta León  \n",
       "67                  Nearest hotel not found  \n",
       "87                             Casa Granada  \n",
       "116                         Hotel Saigon-PT  \n",
       "128                            Paradise Inn  \n",
       "153              Moon light Furnished Units  \n",
       "162            Casa Laguna, Bed & Breakfast  \n",
       "185  Sheraton Kauai Resort at Coconut Beach  \n",
       "210                         Beleza Pura B&B  \n",
       "215                            Beach Rotana  \n",
       "240              Holiday Inn Express Lompoc  \n",
       "261                      Maui Seaside Hotel  \n",
       "266                   Cabanas Camping Union  \n",
       "341                 Hotel The Royal Honours  \n",
       "394                  Hotel Tesoro Los Cabos  \n",
       "434           Hotel Narayan Avezika Comfort  \n",
       "440                            Vanira Lodge  \n",
       "452                 Nearest hotel not found  \n",
       "459                                  Oceano  \n",
       "470                   Pereybere Hotel & Spa  \n",
       "476                          Old Mill Hotel  \n",
       "477          Hôtel Trois Étoiles de Biltine  \n",
       "486                             فندق الرشيد  \n",
       "548         Samarth Krupa Agro Tourism Farm  \n",
       "562                     ENCEIN BUREAU CISCO  \n",
       "605                            کافی نت پارس  "
      ],
      "text/html": "<div>\n<style scoped>\n    .dataframe tbody tr th:only-of-type {\n        vertical-align: middle;\n    }\n\n    .dataframe tbody tr th {\n        vertical-align: top;\n    }\n\n    .dataframe thead th {\n        text-align: right;\n    }\n</style>\n<table border=\"1\" class=\"dataframe\">\n  <thead>\n    <tr style=\"text-align: right;\">\n      <th></th>\n      <th>City</th>\n      <th>Country</th>\n      <th>Latitude</th>\n      <th>Longitude</th>\n      <th>Max Temperature (F)</th>\n      <th>Humidity (%)</th>\n      <th>Cloudiness (%)</th>\n      <th>Wind Speed (mph)</th>\n      <th>Date</th>\n      <th>Hotel Name</th>\n    </tr>\n  </thead>\n  <tbody>\n    <tr>\n      <th>18</th>\n      <td>hilo</td>\n      <td>US</td>\n      <td>19.73</td>\n      <td>-155.09</td>\n      <td>75.992</td>\n      <td>72.0</td>\n      <td>0.0</td>\n      <td>0.97</td>\n      <td>1.606849e+09</td>\n      <td>Hilo Hawaiian Hotel</td>\n    </tr>\n    <tr>\n      <th>46</th>\n      <td>atuona</td>\n      <td>PF</td>\n      <td>-9.80</td>\n      <td>-139.03</td>\n      <td>78.026</td>\n      <td>79.0</td>\n      <td>0.0</td>\n      <td>6.44</td>\n      <td>1.606849e+09</td>\n      <td>Villa Enata</td>\n    </tr>\n    <tr>\n      <th>48</th>\n      <td>rawson</td>\n      <td>AR</td>\n      <td>-43.30</td>\n      <td>-65.10</td>\n      <td>78.512</td>\n      <td>17.0</td>\n      <td>0.0</td>\n      <td>6.19</td>\n      <td>1.606849e+09</td>\n      <td>Hotel Punta León</td>\n    </tr>\n    <tr>\n      <th>67</th>\n      <td>raga</td>\n      <td>SS</td>\n      <td>8.46</td>\n      <td>25.68</td>\n      <td>75.650</td>\n      <td>21.0</td>\n      <td>0.0</td>\n      <td>1.94</td>\n      <td>1.606849e+09</td>\n      <td>Nearest hotel not found</td>\n    </tr>\n    <tr>\n      <th>87</th>\n      <td>mulege</td>\n      <td>MX</td>\n      <td>26.88</td>\n      <td>-111.98</td>\n      <td>76.496</td>\n      <td>19.0</td>\n      <td>0.0</td>\n      <td>4.28</td>\n      <td>1.606849e+09</td>\n      <td>Casa Granada</td>\n    </tr>\n    <tr>\n      <th>116</th>\n      <td>phan thiet</td>\n      <td>VN</td>\n      <td>10.93</td>\n      <td>108.10</td>\n      <td>74.120</td>\n      <td>83.0</td>\n      <td>0.0</td>\n      <td>5.14</td>\n      <td>1.606849e+09</td>\n      <td>Hotel Saigon-PT</td>\n    </tr>\n    <tr>\n      <th>128</th>\n      <td>avarua</td>\n      <td>CK</td>\n      <td>-21.21</td>\n      <td>-159.78</td>\n      <td>77.954</td>\n      <td>82.0</td>\n      <td>0.0</td>\n      <td>5.71</td>\n      <td>1.606849e+09</td>\n      <td>Paradise Inn</td>\n    </tr>\n    <tr>\n      <th>153</th>\n      <td>umm lajj</td>\n      <td>SA</td>\n      <td>25.02</td>\n      <td>37.27</td>\n      <td>73.418</td>\n      <td>49.0</td>\n      <td>0.0</td>\n      <td>2.66</td>\n      <td>1.606849e+09</td>\n      <td>Moon light Furnished Units</td>\n    </tr>\n    <tr>\n      <th>162</th>\n      <td>guerrero negro</td>\n      <td>MX</td>\n      <td>27.98</td>\n      <td>-114.06</td>\n      <td>75.794</td>\n      <td>19.0</td>\n      <td>0.0</td>\n      <td>1.65</td>\n      <td>1.606849e+09</td>\n      <td>Casa Laguna, Bed &amp; Breakfast</td>\n    </tr>\n    <tr>\n      <th>185</th>\n      <td>kapaa</td>\n      <td>US</td>\n      <td>22.08</td>\n      <td>-159.32</td>\n      <td>74.534</td>\n      <td>71.0</td>\n      <td>0.0</td>\n      <td>0.80</td>\n      <td>1.606848e+09</td>\n      <td>Sheraton Kauai Resort at Coconut Beach</td>\n    </tr>\n    <tr>\n      <th>210</th>\n      <td>rocha</td>\n      <td>UY</td>\n      <td>-34.48</td>\n      <td>-54.33</td>\n      <td>76.658</td>\n      <td>44.0</td>\n      <td>0.0</td>\n      <td>4.07</td>\n      <td>1.606849e+09</td>\n      <td>Beleza Pura B&amp;B</td>\n    </tr>\n    <tr>\n      <th>215</th>\n      <td>abu dhabi</td>\n      <td>AE</td>\n      <td>24.47</td>\n      <td>54.37</td>\n      <td>75.560</td>\n      <td>71.0</td>\n      <td>0.0</td>\n      <td>3.79</td>\n      <td>1.606849e+09</td>\n      <td>Beach Rotana</td>\n    </tr>\n    <tr>\n      <th>240</th>\n      <td>lompoc</td>\n      <td>US</td>\n      <td>34.64</td>\n      <td>-120.46</td>\n      <td>71.996</td>\n      <td>48.0</td>\n      <td>0.0</td>\n      <td>3.61</td>\n      <td>1.606848e+09</td>\n      <td>Holiday Inn Express Lompoc</td>\n    </tr>\n    <tr>\n      <th>261</th>\n      <td>kahului</td>\n      <td>US</td>\n      <td>20.89</td>\n      <td>-156.47</td>\n      <td>71.996</td>\n      <td>77.0</td>\n      <td>0.0</td>\n      <td>3.13</td>\n      <td>1.606849e+09</td>\n      <td>Maui Seaside Hotel</td>\n    </tr>\n    <tr>\n      <th>266</th>\n      <td>tapes</td>\n      <td>BR</td>\n      <td>-30.67</td>\n      <td>-51.40</td>\n      <td>73.418</td>\n      <td>65.0</td>\n      <td>0.0</td>\n      <td>6.21</td>\n      <td>1.606849e+09</td>\n      <td>Cabanas Camping Union</td>\n    </tr>\n    <tr>\n      <th>341</th>\n      <td>mangrol</td>\n      <td>IN</td>\n      <td>21.12</td>\n      <td>70.12</td>\n      <td>77.576</td>\n      <td>52.0</td>\n      <td>0.0</td>\n      <td>4.62</td>\n      <td>1.606848e+09</td>\n      <td>Hotel The Royal Honours</td>\n    </tr>\n    <tr>\n      <th>394</th>\n      <td>cabo san lucas</td>\n      <td>MX</td>\n      <td>22.89</td>\n      <td>-109.91</td>\n      <td>77.000</td>\n      <td>61.0</td>\n      <td>0.0</td>\n      <td>2.24</td>\n      <td>1.606848e+09</td>\n      <td>Hotel Tesoro Los Cabos</td>\n    </tr>\n    <tr>\n      <th>434</th>\n      <td>dwarka</td>\n      <td>IN</td>\n      <td>22.24</td>\n      <td>68.97</td>\n      <td>79.304</td>\n      <td>56.0</td>\n      <td>0.0</td>\n      <td>4.71</td>\n      <td>1.606849e+09</td>\n      <td>Hotel Narayan Avezika Comfort</td>\n    </tr>\n    <tr>\n      <th>440</th>\n      <td>teahupoo</td>\n      <td>PF</td>\n      <td>-17.83</td>\n      <td>-149.27</td>\n      <td>75.452</td>\n      <td>87.0</td>\n      <td>0.0</td>\n      <td>7.48</td>\n      <td>1.606849e+09</td>\n      <td>Vanira Lodge</td>\n    </tr>\n    <tr>\n      <th>452</th>\n      <td>maridi</td>\n      <td>SS</td>\n      <td>4.92</td>\n      <td>29.47</td>\n      <td>75.362</td>\n      <td>47.0</td>\n      <td>0.0</td>\n      <td>1.29</td>\n      <td>1.606849e+09</td>\n      <td>Nearest hotel not found</td>\n    </tr>\n    <tr>\n      <th>459</th>\n      <td>inhambane</td>\n      <td>MZ</td>\n      <td>-23.86</td>\n      <td>35.38</td>\n      <td>78.224</td>\n      <td>85.0</td>\n      <td>0.0</td>\n      <td>5.32</td>\n      <td>1.606849e+09</td>\n      <td>Oceano</td>\n    </tr>\n    <tr>\n      <th>470</th>\n      <td>cap malheureux</td>\n      <td>MU</td>\n      <td>-19.98</td>\n      <td>57.61</td>\n      <td>78.008</td>\n      <td>81.0</td>\n      <td>0.0</td>\n      <td>1.79</td>\n      <td>1.606849e+09</td>\n      <td>Pereybere Hotel &amp; Spa</td>\n    </tr>\n    <tr>\n      <th>476</th>\n      <td>san quintin</td>\n      <td>MX</td>\n      <td>30.48</td>\n      <td>-115.95</td>\n      <td>70.718</td>\n      <td>28.0</td>\n      <td>0.0</td>\n      <td>2.13</td>\n      <td>1.606849e+09</td>\n      <td>Old Mill Hotel</td>\n    </tr>\n    <tr>\n      <th>477</th>\n      <td>biltine</td>\n      <td>TD</td>\n      <td>14.53</td>\n      <td>20.92</td>\n      <td>73.202</td>\n      <td>19.0</td>\n      <td>0.0</td>\n      <td>2.46</td>\n      <td>1.606849e+09</td>\n      <td>Hôtel Trois Étoiles de Biltine</td>\n    </tr>\n    <tr>\n      <th>486</th>\n      <td>sinnar</td>\n      <td>SD</td>\n      <td>13.57</td>\n      <td>33.57</td>\n      <td>75.002</td>\n      <td>21.0</td>\n      <td>0.0</td>\n      <td>5.39</td>\n      <td>1.606849e+09</td>\n      <td>فندق الرشيد</td>\n    </tr>\n    <tr>\n      <th>548</th>\n      <td>shirgaon</td>\n      <td>IN</td>\n      <td>19.70</td>\n      <td>72.70</td>\n      <td>78.944</td>\n      <td>71.0</td>\n      <td>0.0</td>\n      <td>3.60</td>\n      <td>1.606849e+09</td>\n      <td>Samarth Krupa Agro Tourism Farm</td>\n    </tr>\n    <tr>\n      <th>562</th>\n      <td>ankazoabo</td>\n      <td>MG</td>\n      <td>-22.28</td>\n      <td>44.52</td>\n      <td>76.100</td>\n      <td>59.0</td>\n      <td>0.0</td>\n      <td>1.94</td>\n      <td>1.606849e+09</td>\n      <td>ENCEIN BUREAU CISCO</td>\n    </tr>\n    <tr>\n      <th>605</th>\n      <td>bandar-e lengeh</td>\n      <td>IR</td>\n      <td>26.56</td>\n      <td>54.88</td>\n      <td>72.158</td>\n      <td>64.0</td>\n      <td>0.0</td>\n      <td>1.41</td>\n      <td>1.606849e+09</td>\n      <td>کافی نت پارس</td>\n    </tr>\n  </tbody>\n</table>\n</div>"
     },
     "metadata": {},
     "execution_count": 8
    }
   ],
   "source": [
    "# Hotel variable\n",
    "hotels = []\n",
    "\n",
    "# Loop through narrowed down dataframe to get nearest hotel\n",
    "for idx in range(len(vacation_df[\"City\"])):\n",
    "\n",
    "    lat = vacation_df[\"Latitude\"].iloc[idx]\n",
    "    lng = vacation_df[\"Longitude\"].iloc[idx]\n",
    "\n",
    "    city_coords = f\"{lat},{lng}\"\n",
    "\n",
    "    params = {\n",
    "        \"location\": city_coords, \n",
    "        \"types\": \"lodging\",\n",
    "        \"radius\": 5000,\n",
    "        \"key\": g_key\n",
    "    }\n",
    "\n",
    "    base_url = \"https://maps.googleapis.com/maps/api/place/nearbysearch/json\"   \n",
    "\n",
    "    hotel_request = requests.get(base_url, params=params)\n",
    "    hotel_response = hotel_request.json()\n",
    "\n",
    "    try:\n",
    "        hotels.append(hotel_response[\"results\"][0][\"name\"])\n",
    "    except:\n",
    "        hotels.append(\"Nearest hotel not found\")\n",
    "\n",
    "# Dataframe with nearest hotel\n",
    "vacation_df[\"Hotel Name\"] = hotels\n",
    "vacation_df"
   ]
  },
  {
   "cell_type": "code",
   "execution_count": 9,
   "metadata": {},
   "outputs": [],
   "source": [
    "# NOTE: Do not change any of the code in this cell\n",
    "\n",
    "# Using the template add the hotel marks to the heatmap\n",
    "info_box_template = \"\"\"\n",
    "<dl>\n",
    "<dt>Name</dt><dd>{Hotel Name}</dd>\n",
    "<dt>City</dt><dd>{City}</dd>\n",
    "<dt>Country</dt><dd>{Country}</dd>\n",
    "</dl>\n",
    "\"\"\"\n",
    "# Store the DataFrame Row\n",
    "# NOTE: be sure to update with your DataFrame name\n",
    "hotel_info = [info_box_template.format(**row) for index, row in vacation_df.iterrows()]\n",
    "locations = vacation_df[[\"Latitude\", \"Longitude\"]]\n",
    "humidity_map = vacation_df[\"Humidity (%)\"]"
   ]
  },
  {
   "cell_type": "code",
   "execution_count": 10,
   "metadata": {},
   "outputs": [
    {
     "output_type": "execute_result",
     "data": {
      "text/plain": [
       "['\\n<dl>\\n<dt>Name</dt><dd>Hilo Hawaiian Hotel</dd>\\n<dt>City</dt><dd>hilo</dd>\\n<dt>Country</dt><dd>US</dd>\\n</dl>\\n',\n",
       " '\\n<dl>\\n<dt>Name</dt><dd>Villa Enata</dd>\\n<dt>City</dt><dd>atuona</dd>\\n<dt>Country</dt><dd>PF</dd>\\n</dl>\\n',\n",
       " '\\n<dl>\\n<dt>Name</dt><dd>Hotel Punta León</dd>\\n<dt>City</dt><dd>rawson</dd>\\n<dt>Country</dt><dd>AR</dd>\\n</dl>\\n',\n",
       " '\\n<dl>\\n<dt>Name</dt><dd>Nearest hotel not found</dd>\\n<dt>City</dt><dd>raga</dd>\\n<dt>Country</dt><dd>SS</dd>\\n</dl>\\n',\n",
       " '\\n<dl>\\n<dt>Name</dt><dd>Casa Granada</dd>\\n<dt>City</dt><dd>mulege</dd>\\n<dt>Country</dt><dd>MX</dd>\\n</dl>\\n',\n",
       " '\\n<dl>\\n<dt>Name</dt><dd>Hotel Saigon-PT</dd>\\n<dt>City</dt><dd>phan thiet</dd>\\n<dt>Country</dt><dd>VN</dd>\\n</dl>\\n',\n",
       " '\\n<dl>\\n<dt>Name</dt><dd>Paradise Inn</dd>\\n<dt>City</dt><dd>avarua</dd>\\n<dt>Country</dt><dd>CK</dd>\\n</dl>\\n',\n",
       " '\\n<dl>\\n<dt>Name</dt><dd>Moon light Furnished Units</dd>\\n<dt>City</dt><dd>umm lajj</dd>\\n<dt>Country</dt><dd>SA</dd>\\n</dl>\\n',\n",
       " '\\n<dl>\\n<dt>Name</dt><dd>Casa Laguna, Bed & Breakfast</dd>\\n<dt>City</dt><dd>guerrero negro</dd>\\n<dt>Country</dt><dd>MX</dd>\\n</dl>\\n',\n",
       " '\\n<dl>\\n<dt>Name</dt><dd>Sheraton Kauai Resort at Coconut Beach</dd>\\n<dt>City</dt><dd>kapaa</dd>\\n<dt>Country</dt><dd>US</dd>\\n</dl>\\n',\n",
       " '\\n<dl>\\n<dt>Name</dt><dd>Beleza Pura B&B</dd>\\n<dt>City</dt><dd>rocha</dd>\\n<dt>Country</dt><dd>UY</dd>\\n</dl>\\n',\n",
       " '\\n<dl>\\n<dt>Name</dt><dd>Beach Rotana</dd>\\n<dt>City</dt><dd>abu dhabi</dd>\\n<dt>Country</dt><dd>AE</dd>\\n</dl>\\n',\n",
       " '\\n<dl>\\n<dt>Name</dt><dd>Holiday Inn Express Lompoc</dd>\\n<dt>City</dt><dd>lompoc</dd>\\n<dt>Country</dt><dd>US</dd>\\n</dl>\\n',\n",
       " '\\n<dl>\\n<dt>Name</dt><dd>Maui Seaside Hotel</dd>\\n<dt>City</dt><dd>kahului</dd>\\n<dt>Country</dt><dd>US</dd>\\n</dl>\\n',\n",
       " '\\n<dl>\\n<dt>Name</dt><dd>Cabanas Camping Union</dd>\\n<dt>City</dt><dd>tapes</dd>\\n<dt>Country</dt><dd>BR</dd>\\n</dl>\\n',\n",
       " '\\n<dl>\\n<dt>Name</dt><dd>Hotel The Royal Honours</dd>\\n<dt>City</dt><dd>mangrol</dd>\\n<dt>Country</dt><dd>IN</dd>\\n</dl>\\n',\n",
       " '\\n<dl>\\n<dt>Name</dt><dd>Hotel Tesoro Los Cabos</dd>\\n<dt>City</dt><dd>cabo san lucas</dd>\\n<dt>Country</dt><dd>MX</dd>\\n</dl>\\n',\n",
       " '\\n<dl>\\n<dt>Name</dt><dd>Hotel Narayan Avezika Comfort</dd>\\n<dt>City</dt><dd>dwarka</dd>\\n<dt>Country</dt><dd>IN</dd>\\n</dl>\\n',\n",
       " '\\n<dl>\\n<dt>Name</dt><dd>Vanira Lodge</dd>\\n<dt>City</dt><dd>teahupoo</dd>\\n<dt>Country</dt><dd>PF</dd>\\n</dl>\\n',\n",
       " '\\n<dl>\\n<dt>Name</dt><dd>Nearest hotel not found</dd>\\n<dt>City</dt><dd>maridi</dd>\\n<dt>Country</dt><dd>SS</dd>\\n</dl>\\n',\n",
       " '\\n<dl>\\n<dt>Name</dt><dd>Oceano</dd>\\n<dt>City</dt><dd>inhambane</dd>\\n<dt>Country</dt><dd>MZ</dd>\\n</dl>\\n',\n",
       " '\\n<dl>\\n<dt>Name</dt><dd>Pereybere Hotel & Spa</dd>\\n<dt>City</dt><dd>cap malheureux</dd>\\n<dt>Country</dt><dd>MU</dd>\\n</dl>\\n',\n",
       " '\\n<dl>\\n<dt>Name</dt><dd>Old Mill Hotel</dd>\\n<dt>City</dt><dd>san quintin</dd>\\n<dt>Country</dt><dd>MX</dd>\\n</dl>\\n',\n",
       " '\\n<dl>\\n<dt>Name</dt><dd>Hôtel Trois Étoiles de Biltine</dd>\\n<dt>City</dt><dd>biltine</dd>\\n<dt>Country</dt><dd>TD</dd>\\n</dl>\\n',\n",
       " '\\n<dl>\\n<dt>Name</dt><dd>فندق الرشيد</dd>\\n<dt>City</dt><dd>sinnar</dd>\\n<dt>Country</dt><dd>SD</dd>\\n</dl>\\n',\n",
       " '\\n<dl>\\n<dt>Name</dt><dd>Samarth Krupa Agro Tourism Farm</dd>\\n<dt>City</dt><dd>shirgaon</dd>\\n<dt>Country</dt><dd>IN</dd>\\n</dl>\\n',\n",
       " '\\n<dl>\\n<dt>Name</dt><dd>ENCEIN BUREAU CISCO</dd>\\n<dt>City</dt><dd>ankazoabo</dd>\\n<dt>Country</dt><dd>MG</dd>\\n</dl>\\n',\n",
       " '\\n<dl>\\n<dt>Name</dt><dd>کافی نت پارس</dd>\\n<dt>City</dt><dd>bandar-e lengeh</dd>\\n<dt>Country</dt><dd>IR</dd>\\n</dl>\\n']"
      ]
     },
     "metadata": {},
     "execution_count": 10
    }
   ],
   "source": [
    "hotel_info"
   ]
  },
  {
   "cell_type": "code",
   "execution_count": 11,
   "metadata": {
    "pycharm": {
     "name": "#%%\n"
    }
   },
   "outputs": [
    {
     "output_type": "display_data",
     "data": {
      "text/plain": "Figure(layout=FigureLayout(height='420px'))",
      "application/vnd.jupyter.widget-view+json": {
       "version_major": 2,
       "version_minor": 0,
       "model_id": "4e6bd62246e94df3b3dee0af3db4726f"
      }
     },
     "metadata": {}
    }
   ],
   "source": [
    "# Add marker layer ontop of heat map\n",
    "info_box_content=[f\"Nearest Hotel: {hotel}\" for hotel in hotels]\n",
    "# hotel_info = \n",
    "markers = gmaps.marker_layer(locations, hotel_info)\n",
    "\n",
    "fig = gmaps.figure(center=(0,0), zoom_level=2)\n",
    "heat_layer = gmaps.heatmap_layer(locations, weights=humidity_map, \n",
    "                                 dissipating=False, max_intensity=10,\n",
    "                                 point_radius = 2)\n",
    "\n",
    "fig.add_layer(heat_layer)\n",
    "fig.add_layer(markers)\n",
    "fig"
   ]
  },
  {
   "cell_type": "code",
   "execution_count": null,
   "metadata": {},
   "outputs": [],
   "source": []
  }
 ],
 "metadata": {
  "kernelspec": {
   "display_name": "Python 3",
   "language": "python",
   "name": "python3"
  },
  "language_info": {
   "codemirror_mode": {
    "name": "ipython",
    "version": 3
   },
   "file_extension": ".py",
   "mimetype": "text/x-python",
   "name": "python",
   "nbconvert_exporter": "python",
   "pygments_lexer": "ipython3",
   "version": "3.6.10-final"
  },
  "latex_envs": {
   "LaTeX_envs_menu_present": true,
   "autoclose": false,
   "autocomplete": true,
   "bibliofile": "biblio.bib",
   "cite_by": "apalike",
   "current_citInitial": 1,
   "eqLabelWithNumbers": true,
   "eqNumInitial": 1,
   "hotkeys": {
    "equation": "Ctrl-E",
    "itemize": "Ctrl-I"
   },
   "labels_anchors": false,
   "latex_user_defs": false,
   "report_style_numbering": false,
   "user_envs_cfg": false
  }
 },
 "nbformat": 4,
 "nbformat_minor": 4
}